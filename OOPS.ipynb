{
 "cells": [
  {
   "cell_type": "markdown",
   "id": "dfef58f3",
   "metadata": {},
   "source": [
    "# OOPS"
   ]
  },
  {
   "cell_type": "code",
   "execution_count": 1,
   "id": "7fda6940",
   "metadata": {},
   "outputs": [],
   "source": [
    "#depriciated method\n",
    "class Car:\n",
    "    pass"
   ]
  },
  {
   "cell_type": "code",
   "execution_count": 2,
   "id": "a5eeda3b",
   "metadata": {},
   "outputs": [
    {
     "data": {
      "text/plain": [
       "<__main__.Car at 0x107d33310>"
      ]
     },
     "execution_count": 2,
     "metadata": {},
     "output_type": "execute_result"
    }
   ],
   "source": [
    "Car()"
   ]
  },
  {
   "cell_type": "code",
   "execution_count": 3,
   "id": "f54590b7",
   "metadata": {},
   "outputs": [],
   "source": [
    "car1 = Car()"
   ]
  },
  {
   "cell_type": "code",
   "execution_count": 4,
   "id": "8d1f988c",
   "metadata": {},
   "outputs": [],
   "source": [
    "car1.doors = 4"
   ]
  },
  {
   "cell_type": "code",
   "execution_count": 5,
   "id": "59a79a79",
   "metadata": {},
   "outputs": [
    {
     "data": {
      "text/plain": [
       "4"
      ]
     },
     "execution_count": 5,
     "metadata": {},
     "output_type": "execute_result"
    }
   ],
   "source": [
    "car1.doors"
   ]
  },
  {
   "cell_type": "code",
   "execution_count": 6,
   "id": "97ec6191",
   "metadata": {},
   "outputs": [],
   "source": [
    "car1.windows = 5"
   ]
  },
  {
   "cell_type": "code",
   "execution_count": 7,
   "id": "17347bbb",
   "metadata": {},
   "outputs": [
    {
     "data": {
      "text/plain": [
       "5"
      ]
     },
     "execution_count": 7,
     "metadata": {},
     "output_type": "execute_result"
    }
   ],
   "source": [
    "car1.windows"
   ]
  },
  {
   "cell_type": "code",
   "execution_count": 8,
   "id": "d59045d7",
   "metadata": {},
   "outputs": [],
   "source": [
    "car2 = Car()"
   ]
  },
  {
   "cell_type": "code",
   "execution_count": 9,
   "id": "3b3a722a",
   "metadata": {},
   "outputs": [],
   "source": [
    "car2.windows = 2"
   ]
  },
  {
   "cell_type": "code",
   "execution_count": 11,
   "id": "acb2d796",
   "metadata": {},
   "outputs": [
    {
     "data": {
      "text/plain": [
       "2"
      ]
     },
     "execution_count": 11,
     "metadata": {},
     "output_type": "execute_result"
    }
   ],
   "source": [
    "car2.windows"
   ]
  },
  {
   "cell_type": "code",
   "execution_count": 17,
   "id": "efb6a6a5",
   "metadata": {},
   "outputs": [],
   "source": [
    "#Good method to make a class\n",
    "class Car:\n",
    "    \n",
    "    #constructor\n",
    "    def __init__(self,windows,doors,engineType,color,name):\n",
    "        self.windows = windows\n",
    "        self.doors = doors\n",
    "        self.engineType = engineType\n",
    "        self.color = color\n",
    "        self.name = name\n",
    "        \n",
    "    def selfDrive(self):\n",
    "        return \"This {} has {} doors and {} windows and a {} engine\".format(self.name,self.doors,self.windows,self.engineType)"
   ]
  },
  {
   "cell_type": "code",
   "execution_count": 18,
   "id": "2ca91b38",
   "metadata": {},
   "outputs": [],
   "source": [
    "car3 = Car(4,4,\"Diesel\",\"Grey\",\"BMW\")"
   ]
  },
  {
   "cell_type": "code",
   "execution_count": 19,
   "id": "eecf6826",
   "metadata": {},
   "outputs": [
    {
     "data": {
      "text/plain": [
       "'This BMW has 4 doors and 4 windows and a Diesel engine'"
      ]
     },
     "execution_count": 19,
     "metadata": {},
     "output_type": "execute_result"
    }
   ],
   "source": [
    "car3.selfDrive()"
   ]
  }
 ],
 "metadata": {
  "kernelspec": {
   "display_name": "Python 3 (ipykernel)",
   "language": "python",
   "name": "python3"
  },
  "language_info": {
   "codemirror_mode": {
    "name": "ipython",
    "version": 3
   },
   "file_extension": ".py",
   "mimetype": "text/x-python",
   "name": "python",
   "nbconvert_exporter": "python",
   "pygments_lexer": "ipython3",
   "version": "3.10.9"
  }
 },
 "nbformat": 4,
 "nbformat_minor": 5
}

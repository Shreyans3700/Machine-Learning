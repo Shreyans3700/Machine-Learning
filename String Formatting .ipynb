{
 "cells": [
  {
   "cell_type": "code",
   "execution_count": 1,
   "id": "23301739",
   "metadata": {},
   "outputs": [
    {
     "name": "stdout",
     "output_type": "stream",
     "text": [
      "Hello EveryOne\n"
     ]
    }
   ],
   "source": [
    "print(\"Hello EveryOne\")"
   ]
  },
  {
   "cell_type": "code",
   "execution_count": 2,
   "id": "be6e4276",
   "metadata": {},
   "outputs": [],
   "source": [
    "strs = \"hello EveryOne\""
   ]
  },
  {
   "cell_type": "code",
   "execution_count": 3,
   "id": "af97efba",
   "metadata": {},
   "outputs": [
    {
     "name": "stdout",
     "output_type": "stream",
     "text": [
      "hello EveryOne\n"
     ]
    }
   ],
   "source": [
    "print(strs)"
   ]
  },
  {
   "cell_type": "code",
   "execution_count": 4,
   "id": "ca26a9dc",
   "metadata": {},
   "outputs": [],
   "source": [
    "def greetings(name):\n",
    "    print(\"Hello {} welcome to the community \".format(name))"
   ]
  },
  {
   "cell_type": "code",
   "execution_count": 5,
   "id": "ef0b1c34",
   "metadata": {},
   "outputs": [
    {
     "name": "stdout",
     "output_type": "stream",
     "text": [
      "Hello Shreyansh welcome to the community \n"
     ]
    }
   ],
   "source": [
    "greetings(\"Shreyansh\")"
   ]
  },
  {
   "cell_type": "code",
   "execution_count": 6,
   "id": "ba7b30c4",
   "metadata": {},
   "outputs": [],
   "source": [
    "def detailedDefinition(name,stream):\n",
    "    return \"Hello {} welcome to the {} community\".format(name,stream)"
   ]
  },
  {
   "cell_type": "code",
   "execution_count": 7,
   "id": "6d1dea3e",
   "metadata": {},
   "outputs": [
    {
     "data": {
      "text/plain": [
       "'Hello Shreyansh welcome to the ML community'"
      ]
     },
     "execution_count": 7,
     "metadata": {},
     "output_type": "execute_result"
    }
   ],
   "source": [
    "detailedDefinition(\"Shreyansh\",\"ML\")"
   ]
  },
  {
   "cell_type": "code",
   "execution_count": 10,
   "id": "d20b0323",
   "metadata": {},
   "outputs": [],
   "source": [
    "def complexFormat(strs,comm):\n",
    "    return \"Hello {name} welcome to our {stream} community\".format(stream=comm,name=strs)"
   ]
  },
  {
   "cell_type": "code",
   "execution_count": 11,
   "id": "30bc6d02",
   "metadata": {},
   "outputs": [
    {
     "data": {
      "text/plain": [
       "'Hello Shreyansh welcome to our ML community'"
      ]
     },
     "execution_count": 11,
     "metadata": {},
     "output_type": "execute_result"
    }
   ],
   "source": [
    "complexFormat(\"Shreyansh\",\"ML\")"
   ]
  }
 ],
 "metadata": {
  "kernelspec": {
   "display_name": "Python 3 (ipykernel)",
   "language": "python",
   "name": "python3"
  },
  "language_info": {
   "codemirror_mode": {
    "name": "ipython",
    "version": 3
   },
   "file_extension": ".py",
   "mimetype": "text/x-python",
   "name": "python",
   "nbconvert_exporter": "python",
   "pygments_lexer": "ipython3",
   "version": "3.10.9"
  }
 },
 "nbformat": 4,
 "nbformat_minor": 5
}

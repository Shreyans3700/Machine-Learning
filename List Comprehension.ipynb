{
 "cells": [
  {
   "cell_type": "markdown",
   "id": "b30bfbbd",
   "metadata": {},
   "source": [
    "# List Comprehension\n",
    "\n",
    "- It provides a consice way to create lists"
   ]
  },
  {
   "cell_type": "code",
   "execution_count": 1,
   "id": "900d272d",
   "metadata": {},
   "outputs": [],
   "source": [
    "listOne = []\n",
    "\n",
    "def createList(lst):\n",
    "    for i in lst:\n",
    "        listOne.append(i*i)\n",
    "    return listOne"
   ]
  },
  {
   "cell_type": "code",
   "execution_count": 2,
   "id": "c4a42233",
   "metadata": {},
   "outputs": [
    {
     "data": {
      "text/plain": [
       "[0, 1, 4, 9, 16, 25, 36]"
      ]
     },
     "execution_count": 2,
     "metadata": {},
     "output_type": "execute_result"
    }
   ],
   "source": [
    "createList([0,1,2,3,4,5,6])"
   ]
  },
  {
   "cell_type": "code",
   "execution_count": 4,
   "id": "e5188fea",
   "metadata": {},
   "outputs": [],
   "source": [
    "#List comprehension\n",
    "lst = [0,1,2,3,4,5,6,7,8,9]"
   ]
  },
  {
   "cell_type": "code",
   "execution_count": 6,
   "id": "29d8d8a1",
   "metadata": {},
   "outputs": [],
   "source": [
    "listOne = [i*i for i in lst]"
   ]
  },
  {
   "cell_type": "code",
   "execution_count": 7,
   "id": "497f96a8",
   "metadata": {},
   "outputs": [
    {
     "data": {
      "text/plain": [
       "[0, 1, 4, 9, 16, 25, 36, 49, 64, 81]"
      ]
     },
     "execution_count": 7,
     "metadata": {},
     "output_type": "execute_result"
    }
   ],
   "source": [
    "listOne"
   ]
  },
  {
   "cell_type": "code",
   "execution_count": 8,
   "id": "8b2d4713",
   "metadata": {},
   "outputs": [],
   "source": [
    "#for only even number\n",
    "listEven = [i*i for i in lst if i%2==0]"
   ]
  },
  {
   "cell_type": "code",
   "execution_count": 9,
   "id": "175a960c",
   "metadata": {},
   "outputs": [
    {
     "data": {
      "text/plain": [
       "[0, 4, 16, 36, 64]"
      ]
     },
     "execution_count": 9,
     "metadata": {},
     "output_type": "execute_result"
    }
   ],
   "source": [
    "listEven"
   ]
  },
  {
   "cell_type": "code",
   "execution_count": 10,
   "id": "83f373a4",
   "metadata": {},
   "outputs": [],
   "source": [
    "listOdd = [i*i for i in lst if i%2!=0]"
   ]
  },
  {
   "cell_type": "code",
   "execution_count": 11,
   "id": "62c37d46",
   "metadata": {},
   "outputs": [
    {
     "data": {
      "text/plain": [
       "[1, 9, 25, 49, 81]"
      ]
     },
     "execution_count": 11,
     "metadata": {},
     "output_type": "execute_result"
    }
   ],
   "source": [
    "listOdd"
   ]
  },
  {
   "cell_type": "code",
   "execution_count": null,
   "id": "25b9b93b",
   "metadata": {},
   "outputs": [],
   "source": []
  }
 ],
 "metadata": {
  "kernelspec": {
   "display_name": "Python 3 (ipykernel)",
   "language": "python",
   "name": "python3"
  },
  "language_info": {
   "codemirror_mode": {
    "name": "ipython",
    "version": 3
   },
   "file_extension": ".py",
   "mimetype": "text/x-python",
   "name": "python",
   "nbconvert_exporter": "python",
   "pygments_lexer": "ipython3",
   "version": "3.10.9"
  }
 },
 "nbformat": 4,
 "nbformat_minor": 5
}

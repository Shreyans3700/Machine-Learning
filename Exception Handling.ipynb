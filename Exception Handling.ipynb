{
 "cells": [
  {
   "cell_type": "markdown",
   "id": "274b1ffb",
   "metadata": {},
   "source": [
    "# Exception Handling"
   ]
  },
  {
   "cell_type": "code",
   "execution_count": 1,
   "id": "87b04696",
   "metadata": {},
   "outputs": [],
   "source": [
    "a = 10"
   ]
  },
  {
   "cell_type": "code",
   "execution_count": 3,
   "id": "09d91364",
   "metadata": {},
   "outputs": [
    {
     "ename": "NameError",
     "evalue": "name 'b' is not defined",
     "output_type": "error",
     "traceback": [
      "\u001b[0;31m---------------------------------------------------------------------------\u001b[0m",
      "\u001b[0;31mNameError\u001b[0m                                 Traceback (most recent call last)",
      "Cell \u001b[0;32mIn[3], line 1\u001b[0m\n\u001b[0;32m----> 1\u001b[0m a \u001b[38;5;241m=\u001b[39m \u001b[43mb\u001b[49m\n",
      "\u001b[0;31mNameError\u001b[0m: name 'b' is not defined"
     ]
    }
   ],
   "source": [
    "a = b #it is error "
   ]
  },
  {
   "cell_type": "code",
   "execution_count": 4,
   "id": "bde1f0ac",
   "metadata": {},
   "outputs": [
    {
     "name": "stdout",
     "output_type": "stream",
     "text": [
      "Some error has occoured\n"
     ]
    }
   ],
   "source": [
    "try:\n",
    "    #this block is for code where exception can occour\n",
    "    a = b\n",
    "except:\n",
    "    print(\"Some error has occoured\")"
   ]
  },
  {
   "cell_type": "code",
   "execution_count": 5,
   "id": "c467f9bd",
   "metadata": {},
   "outputs": [
    {
     "name": "stdout",
     "output_type": "stream",
     "text": [
      "name 'b' is not defined\n"
     ]
    }
   ],
   "source": [
    "try:\n",
    "    #this block is for code where exception can occour\n",
    "    a = b\n",
    "except Exception as ex:\n",
    "    print(ex)"
   ]
  },
  {
   "cell_type": "code",
   "execution_count": 8,
   "id": "d70863ad",
   "metadata": {},
   "outputs": [
    {
     "name": "stdout",
     "output_type": "stream",
     "text": [
      "Variable has not been assigned properly by the user\n"
     ]
    }
   ],
   "source": [
    "try:\n",
    "    #this block is for code where exception can occour\n",
    "    a = b\n",
    "except NameError as ex1:\n",
    "    print(\"Variable has not been assigned properly by the user\")\n",
    "except Exception as ex:\n",
    "    print(ex)"
   ]
  },
  {
   "cell_type": "code",
   "execution_count": 9,
   "id": "b4cddb18",
   "metadata": {},
   "outputs": [
    {
     "name": "stdout",
     "output_type": "stream",
     "text": [
      "Variables must be of same datatype\n"
     ]
    }
   ],
   "source": [
    "try:\n",
    "    #this block is for code where exception can occour\n",
    "    a = 1\n",
    "    b = \"s\"\n",
    "    c = a + b\n",
    "except NameError as ex1:\n",
    "    print(\"Variable has not been assigned properly by the user\")\n",
    "except TypeError as ex2:\n",
    "    print(\"Variables must be of same datatype\")\n",
    "except Exception as ex:\n",
    "    print(ex)"
   ]
  },
  {
   "cell_type": "code",
   "execution_count": 13,
   "id": "6828a7d5",
   "metadata": {},
   "outputs": [
    {
     "name": "stdout",
     "output_type": "stream",
     "text": [
      "Enter number One4\n",
      "Enter number Two5\n",
      "9 -1 20 0.8\n"
     ]
    }
   ],
   "source": [
    "# try-else\n",
    "try:\n",
    "    a = int(input(\"Enter number One\"))\n",
    "    b = int(input(\"Enter number Two\"))\n",
    "    c = a + b\n",
    "    d = a - b\n",
    "    e = a * b\n",
    "    f = a / b\n",
    "except NameError as ex1:\n",
    "    print(\"Variable has not been assigned properly by the user\")\n",
    "except TypeError as ex2:\n",
    "    print(\"Variables must be of same datatype\")\n",
    "except ZeroDivisionError as ex3:\n",
    "    print(\"You cannot divide a number by Zero Please Try again\")\n",
    "except Exception as ex:\n",
    "    print(ex)\n",
    "else:\n",
    "    print(c,d,e,f)"
   ]
  },
  {
   "cell_type": "code",
   "execution_count": 15,
   "id": "d32a6d48",
   "metadata": {},
   "outputs": [
    {
     "name": "stdout",
     "output_type": "stream",
     "text": [
      "Enter number One 4\n",
      "Enter number Two 0\n",
      "You cannot divide a number by Zero Please Try again\n",
      "The Execution is done\n"
     ]
    }
   ],
   "source": [
    "#try-else-finally\n",
    "# try-else\n",
    "try:\n",
    "    a = int(input(\"Enter number One \"))\n",
    "    b = int(input(\"Enter number Two \"))\n",
    "    c = a + b\n",
    "    d = a - b\n",
    "    e = a * b\n",
    "    f = a / b\n",
    "except NameError as ex1:\n",
    "    print(\"Variable has not been assigned properly by the user\")\n",
    "except TypeError as ex2:\n",
    "    print(\"Variables must be of same datatype\")\n",
    "except ZeroDivisionError as ex3:\n",
    "    print(\"You cannot divide a number by Zero Please Try again\")\n",
    "except Exception as ex:\n",
    "    print(ex)\n",
    "else:\n",
    "    print(c,d,e,f)\n",
    "finally:\n",
    "    print(\"The Execution is done\")"
   ]
  },
  {
   "cell_type": "markdown",
   "id": "d5b728d0",
   "metadata": {},
   "source": [
    "# Custom Exception"
   ]
  },
  {
   "cell_type": "code",
   "execution_count": 24,
   "id": "a8b2884e",
   "metadata": {},
   "outputs": [],
   "source": [
    "class Error(Exception):\n",
    "    pass\n",
    "\n",
    "class dobException(Error):\n",
    "    pass"
   ]
  },
  {
   "cell_type": "code",
   "execution_count": 26,
   "id": "78745a69",
   "metadata": {},
   "outputs": [
    {
     "name": "stdout",
     "output_type": "stream",
     "text": [
      "Enter your DOB 1961\n",
      "Your age is not valid\n"
     ]
    }
   ],
   "source": [
    "dob = int(input(\"Enter your DOB \"))\n",
    "age = 2023-dob\n",
    "\n",
    "try:\n",
    "    if age<=30 & age>20:\n",
    "        print(\"You are eligible\")\n",
    "    else:\n",
    "        raise dobException\n",
    "except dobException:\n",
    "    print(\"Your age is not valid\")"
   ]
  }
 ],
 "metadata": {
  "kernelspec": {
   "display_name": "Python 3 (ipykernel)",
   "language": "python",
   "name": "python3"
  },
  "language_info": {
   "codemirror_mode": {
    "name": "ipython",
    "version": 3
   },
   "file_extension": ".py",
   "mimetype": "text/x-python",
   "name": "python",
   "nbconvert_exporter": "python",
   "pygments_lexer": "ipython3",
   "version": "3.10.9"
  }
 },
 "nbformat": 4,
 "nbformat_minor": 5
}

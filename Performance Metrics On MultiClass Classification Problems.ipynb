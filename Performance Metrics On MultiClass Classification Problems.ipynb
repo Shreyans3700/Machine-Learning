{
 "cells": [
  {
   "cell_type": "markdown",
   "id": "8d8609fb",
   "metadata": {},
   "source": [
    "# Performance Metrics On MultiClass Classification"
   ]
  },
  {
   "cell_type": "code",
   "execution_count": 2,
   "id": "bfdfeda2",
   "metadata": {},
   "outputs": [],
   "source": [
    "from sklearn import metrics"
   ]
  },
  {
   "cell_type": "code",
   "execution_count": 3,
   "id": "d8337161",
   "metadata": {},
   "outputs": [],
   "source": [
    "C=\"Cat\"\n",
    "D=\"Dog\"\n",
    "F=\"Fox\""
   ]
  },
  {
   "cell_type": "markdown",
   "id": "1bad2925",
   "metadata": {},
   "source": [
    "### the precision for the cat class is number of cats predicted correctly out of total predicted cats\n",
    "### the recall for the cat class is number of cats predicted correctly out of actual cats"
   ]
  },
  {
   "attachments": {
    "Confusion%20Matrix.png": {
     "image/png": "[encoded data removed]"
    }
   },
   "cell_type": "markdown",
   "id": "8123157d",
   "metadata": {},
   "source": [
    "![Confusion%20Matrix.png](attachment:Confusion%20Matrix.png)"
   ]
  },
  {
   "cell_type": "code",
   "execution_count": 4,
   "id": "ca7cfd95",
   "metadata": {},
   "outputs": [],
   "source": [
    "#actual values\n",
    "y_true = [C,C,C,C,C,C,   F,F,F,F,F,F,F,F,F,F,   D,D,D,D,D,D,D,D,D]\n",
    "\n",
    "#predicted values\n",
    "y_pred = [C,C,C,C,D,F,   C,C,C,C,C,C,D,D,F,F,   C,C,C,D,D,D,D,D,D]"
   ]
  },
  {
   "cell_type": "code",
   "execution_count": 5,
   "id": "8a86f301",
   "metadata": {},
   "outputs": [
    {
     "name": "stdout",
     "output_type": "stream",
     "text": [
      "[[4 1 1]\n",
      " [3 6 0]\n",
      " [6 2 2]]\n"
     ]
    }
   ],
   "source": [
    "print(metrics.confusion_matrix(y_true,y_pred))"
   ]
  },
  {
   "cell_type": "code",
   "execution_count": 8,
   "id": "0b3848eb",
   "metadata": {},
   "outputs": [
    {
     "name": "stdout",
     "output_type": "stream",
     "text": [
      "              precision    recall  f1-score   support\n",
      "\n",
      "         Cat      0.308     0.667     0.421         6\n",
      "         Dog      0.667     0.667     0.667         9\n",
      "         Fox      0.667     0.200     0.308        10\n",
      "\n",
      "    accuracy                          0.480        25\n",
      "   macro avg      0.547     0.511     0.465        25\n",
      "weighted avg      0.581     0.480     0.464        25\n",
      "\n"
     ]
    }
   ],
   "source": [
    "print(metrics.classification_report(y_true,y_pred,digits=3))"
   ]
  }
 ],
 "metadata": {
  "kernelspec": {
   "display_name": "Python 3 (ipykernel)",
   "language": "python",
   "name": "python3"
  },
  "language_info": {
   "codemirror_mode": {
    "name": "ipython",
    "version": 3
   },
   "file_extension": ".py",
   "mimetype": "text/x-python",
   "name": "python",
   "nbconvert_exporter": "python",
   "pygments_lexer": "ipython3",
   "version": "3.10.9"
  }
 },
 "nbformat": 4,
 "nbformat_minor": 5
}
